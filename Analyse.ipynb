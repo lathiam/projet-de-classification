{
 "cells": [
  {
   "cell_type": "code",
   "execution_count": 4,
   "metadata": {},
   "outputs": [],
   "source": [
    "import numpy as np\n",
    "import pandas as pd\n",
    "import matplotlib.pyplot as plt\n",
    "import seaborn as sns"
   ]
  },
  {
   "cell_type": "code",
   "execution_count": null,
   "metadata": {},
   "outputs": [],
   "source": []
  },
  {
   "cell_type": "code",
   "execution_count": 13,
   "metadata": {},
   "outputs": [
    {
     "data": {
      "text/html": [
       "<div>\n",
       "<style scoped>\n",
       "    .dataframe tbody tr th:only-of-type {\n",
       "        vertical-align: middle;\n",
       "    }\n",
       "\n",
       "    .dataframe tbody tr th {\n",
       "        vertical-align: top;\n",
       "    }\n",
       "\n",
       "    .dataframe thead th {\n",
       "        text-align: right;\n",
       "    }\n",
       "</style>\n",
       "<table border=\"1\" class=\"dataframe\">\n",
       "  <thead>\n",
       "    <tr style=\"text-align: right;\">\n",
       "      <th></th>\n",
       "      <th>ID</th>\n",
       "      <th>CustomerId</th>\n",
       "      <th>Surname</th>\n",
       "      <th>CreditScore</th>\n",
       "      <th>Geography</th>\n",
       "      <th>Gender</th>\n",
       "      <th>Age</th>\n",
       "      <th>Tenure</th>\n",
       "      <th>Balance</th>\n",
       "      <th>NumOfProducts</th>\n",
       "      <th>HasCrCard</th>\n",
       "      <th>IsActiveMember</th>\n",
       "      <th>EstimatedSalary</th>\n",
       "      <th>Exited</th>\n",
       "    </tr>\n",
       "  </thead>\n",
       "  <tbody>\n",
       "    <tr>\n",
       "      <th>0</th>\n",
       "      <td>37765</td>\n",
       "      <td>15794860</td>\n",
       "      <td>Ch'eng</td>\n",
       "      <td>627</td>\n",
       "      <td>France</td>\n",
       "      <td>Male</td>\n",
       "      <td>28.0</td>\n",
       "      <td>7</td>\n",
       "      <td>131694.04</td>\n",
       "      <td>1</td>\n",
       "      <td>1.0</td>\n",
       "      <td>1.0</td>\n",
       "      <td>161205.61</td>\n",
       "      <td>0</td>\n",
       "    </tr>\n",
       "    <tr>\n",
       "      <th>1</th>\n",
       "      <td>130453</td>\n",
       "      <td>15728005</td>\n",
       "      <td>Hargreaves</td>\n",
       "      <td>597</td>\n",
       "      <td>France</td>\n",
       "      <td>Male</td>\n",
       "      <td>34.0</td>\n",
       "      <td>2</td>\n",
       "      <td>0.00</td>\n",
       "      <td>2</td>\n",
       "      <td>0.0</td>\n",
       "      <td>1.0</td>\n",
       "      <td>181419.29</td>\n",
       "      <td>0</td>\n",
       "    </tr>\n",
       "    <tr>\n",
       "      <th>2</th>\n",
       "      <td>77297</td>\n",
       "      <td>15686810</td>\n",
       "      <td>Ts'ui</td>\n",
       "      <td>724</td>\n",
       "      <td>France</td>\n",
       "      <td>Male</td>\n",
       "      <td>39.0</td>\n",
       "      <td>7</td>\n",
       "      <td>0.00</td>\n",
       "      <td>2</td>\n",
       "      <td>1.0</td>\n",
       "      <td>1.0</td>\n",
       "      <td>100862.54</td>\n",
       "      <td>0</td>\n",
       "    </tr>\n",
       "    <tr>\n",
       "      <th>3</th>\n",
       "      <td>40858</td>\n",
       "      <td>15760244</td>\n",
       "      <td>Trevisano</td>\n",
       "      <td>663</td>\n",
       "      <td>Germany</td>\n",
       "      <td>Female</td>\n",
       "      <td>56.0</td>\n",
       "      <td>5</td>\n",
       "      <td>118577.24</td>\n",
       "      <td>3</td>\n",
       "      <td>1.0</td>\n",
       "      <td>0.0</td>\n",
       "      <td>61164.45</td>\n",
       "      <td>1</td>\n",
       "    </tr>\n",
       "    <tr>\n",
       "      <th>4</th>\n",
       "      <td>19804</td>\n",
       "      <td>15810563</td>\n",
       "      <td>French</td>\n",
       "      <td>627</td>\n",
       "      <td>France</td>\n",
       "      <td>Female</td>\n",
       "      <td>33.0</td>\n",
       "      <td>5</td>\n",
       "      <td>0.00</td>\n",
       "      <td>2</td>\n",
       "      <td>1.0</td>\n",
       "      <td>1.0</td>\n",
       "      <td>103737.82</td>\n",
       "      <td>0</td>\n",
       "    </tr>\n",
       "    <tr>\n",
       "      <th>5</th>\n",
       "      <td>137682</td>\n",
       "      <td>15801466</td>\n",
       "      <td>Gray</td>\n",
       "      <td>574</td>\n",
       "      <td>France</td>\n",
       "      <td>Female</td>\n",
       "      <td>34.0</td>\n",
       "      <td>2</td>\n",
       "      <td>122524.61</td>\n",
       "      <td>2</td>\n",
       "      <td>1.0</td>\n",
       "      <td>0.0</td>\n",
       "      <td>88463.63</td>\n",
       "      <td>0</td>\n",
       "    </tr>\n",
       "    <tr>\n",
       "      <th>6</th>\n",
       "      <td>42541</td>\n",
       "      <td>15621654</td>\n",
       "      <td>Macleod</td>\n",
       "      <td>671</td>\n",
       "      <td>France</td>\n",
       "      <td>Male</td>\n",
       "      <td>35.0</td>\n",
       "      <td>2</td>\n",
       "      <td>0.00</td>\n",
       "      <td>2</td>\n",
       "      <td>1.0</td>\n",
       "      <td>1.0</td>\n",
       "      <td>183566.85</td>\n",
       "      <td>0</td>\n",
       "    </tr>\n",
       "    <tr>\n",
       "      <th>7</th>\n",
       "      <td>148483</td>\n",
       "      <td>15585985</td>\n",
       "      <td>Ritchie</td>\n",
       "      <td>678</td>\n",
       "      <td>Spain</td>\n",
       "      <td>Male</td>\n",
       "      <td>32.0</td>\n",
       "      <td>2</td>\n",
       "      <td>124586.93</td>\n",
       "      <td>1</td>\n",
       "      <td>1.0</td>\n",
       "      <td>1.0</td>\n",
       "      <td>181218.37</td>\n",
       "      <td>0</td>\n",
       "    </tr>\n",
       "    <tr>\n",
       "      <th>8</th>\n",
       "      <td>14108</td>\n",
       "      <td>15654183</td>\n",
       "      <td>Chibueze</td>\n",
       "      <td>850</td>\n",
       "      <td>France</td>\n",
       "      <td>Female</td>\n",
       "      <td>27.0</td>\n",
       "      <td>1</td>\n",
       "      <td>0.00</td>\n",
       "      <td>1</td>\n",
       "      <td>1.0</td>\n",
       "      <td>1.0</td>\n",
       "      <td>189268.81</td>\n",
       "      <td>0</td>\n",
       "    </tr>\n",
       "    <tr>\n",
       "      <th>9</th>\n",
       "      <td>15670</td>\n",
       "      <td>15648005</td>\n",
       "      <td>Tsao</td>\n",
       "      <td>672</td>\n",
       "      <td>Spain</td>\n",
       "      <td>Male</td>\n",
       "      <td>33.0</td>\n",
       "      <td>2</td>\n",
       "      <td>0.00</td>\n",
       "      <td>1</td>\n",
       "      <td>1.0</td>\n",
       "      <td>1.0</td>\n",
       "      <td>182738.00</td>\n",
       "      <td>1</td>\n",
       "    </tr>\n",
       "  </tbody>\n",
       "</table>\n",
       "</div>"
      ],
      "text/plain": [
       "       ID  CustomerId     Surname  CreditScore Geography  Gender   Age  \\\n",
       "0   37765    15794860      Ch'eng          627    France    Male  28.0   \n",
       "1  130453    15728005  Hargreaves          597    France    Male  34.0   \n",
       "2   77297    15686810       Ts'ui          724    France    Male  39.0   \n",
       "3   40858    15760244   Trevisano          663   Germany  Female  56.0   \n",
       "4   19804    15810563      French          627    France  Female  33.0   \n",
       "5  137682    15801466        Gray          574    France  Female  34.0   \n",
       "6   42541    15621654     Macleod          671    France    Male  35.0   \n",
       "7  148483    15585985     Ritchie          678     Spain    Male  32.0   \n",
       "8   14108    15654183    Chibueze          850    France  Female  27.0   \n",
       "9   15670    15648005        Tsao          672     Spain    Male  33.0   \n",
       "\n",
       "   Tenure    Balance  NumOfProducts  HasCrCard  IsActiveMember  \\\n",
       "0       7  131694.04              1        1.0             1.0   \n",
       "1       2       0.00              2        0.0             1.0   \n",
       "2       7       0.00              2        1.0             1.0   \n",
       "3       5  118577.24              3        1.0             0.0   \n",
       "4       5       0.00              2        1.0             1.0   \n",
       "5       2  122524.61              2        1.0             0.0   \n",
       "6       2       0.00              2        1.0             1.0   \n",
       "7       2  124586.93              1        1.0             1.0   \n",
       "8       1       0.00              1        1.0             1.0   \n",
       "9       2       0.00              1        1.0             1.0   \n",
       "\n",
       "   EstimatedSalary  Exited  \n",
       "0        161205.61       0  \n",
       "1        181419.29       0  \n",
       "2        100862.54       0  \n",
       "3         61164.45       1  \n",
       "4        103737.82       0  \n",
       "5         88463.63       0  \n",
       "6        183566.85       0  \n",
       "7        181218.37       0  \n",
       "8        189268.81       0  \n",
       "9        182738.00       1  "
      ]
     },
     "execution_count": 13,
     "metadata": {},
     "output_type": "execute_result"
    }
   ],
   "source": [
    "train_data = pd.read_csv('train_data.csv')\n",
    "df=pd.DataFrame(train_data)\n",
    "df.head(10)"
   ]
  },
  {
   "cell_type": "code",
   "execution_count": 12,
   "metadata": {},
   "outputs": [
    {
     "name": "stdout",
     "output_type": "stream",
     "text": [
      "<class 'pandas.core.frame.DataFrame'>\n",
      "RangeIndex: 143579 entries, 0 to 143578\n",
      "Data columns (total 14 columns):\n",
      " #   Column           Non-Null Count   Dtype  \n",
      "---  ------           --------------   -----  \n",
      " 0   ID               143579 non-null  int64  \n",
      " 1   CustomerId       143579 non-null  int64  \n",
      " 2   Surname          143579 non-null  object \n",
      " 3   CreditScore      143579 non-null  int64  \n",
      " 4   Geography        143579 non-null  object \n",
      " 5   Gender           143579 non-null  object \n",
      " 6   Age              143579 non-null  float64\n",
      " 7   Tenure           143579 non-null  int64  \n",
      " 8   Balance          143579 non-null  float64\n",
      " 9   NumOfProducts    143579 non-null  int64  \n",
      " 10  HasCrCard        143579 non-null  float64\n",
      " 11  IsActiveMember   143579 non-null  float64\n",
      " 12  EstimatedSalary  143579 non-null  float64\n",
      " 13  Exited           143579 non-null  int64  \n",
      "dtypes: float64(5), int64(6), object(3)\n",
      "memory usage: 15.3+ MB\n"
     ]
    }
   ],
   "source": [
    "df.info()"
   ]
  },
  {
   "cell_type": "markdown",
   "metadata": {},
   "source": [
    "#Les variables discrètes:\n",
    "- Surname  \n",
    "- CreditScore      \n",
    "- Geography  \n",
    "- Gender         \n",
    "- Tenure    \n",
    "- NumOfProducts  \n",
    "- HasCrCard          \n",
    "- IsActiveMember   \n",
    "- Exited                    \n"
   ]
  },
  {
   "cell_type": "markdown",
   "metadata": {},
   "source": [
    "#Analyse univariée variable discrète"
   ]
  },
  {
   "cell_type": "code",
   "execution_count": null,
   "metadata": {},
   "outputs": [
    {
     "data": {
      "text/plain": [
       "Surname\n",
       "Hsia       2107\n",
       "T'ien      1971\n",
       "Hs?        1387\n",
       "Ts'ui      1364\n",
       "Maclean    1364\n",
       "Kao        1359\n",
       "P'eng      1297\n",
       "H?         1251\n",
       "Hsueh      1145\n",
       "Shih       1079\n",
       "Name: count, dtype: int64"
      ]
     },
     "execution_count": 19,
     "metadata": {},
     "output_type": "execute_result"
    }
   ],
   "source": [
    "df['Surname'].value_counts().head(10)"
   ]
  },
  {
   "cell_type": "code",
   "execution_count": 34,
   "metadata": {},
   "outputs": [
    {
     "name": "stdout",
     "output_type": "stream",
     "text": [
      "Nombre de personnes avec un CreditScore supérieur ou égal à 500: 139435, ce qui représente 97.11%\n",
      "Nombre de personnes avec un CreditScore inférieur à 500: 4144, ce qui représente 2.89%\n"
     ]
    }
   ],
   "source": [
    "# Nombre de personnes avec un CreditScore supérieur ou égal à 500\n",
    "above_500 = df[df['CreditScore'] >= 500].shape[0]\n",
    "above_500_percentage = (above_500 / df.shape[0]) * 100\n",
    "\n",
    "# Nombre de personnes avec un CreditScore inférieur à 500\n",
    "below_500 = df[df['CreditScore'] < 500].shape[0]\n",
    "below_500_percentage = (below_500 / df.shape[0]) * 100\n",
    "\n",
    "# Affichage des résultats\n",
    "print(f\"Nombre de personnes avec un CreditScore supérieur ou égal à 500: {above_500}, ce qui représente {above_500_percentage:.2f}%\")\n",
    "print(f\"Nombre de personnes avec un CreditScore inférieur à 500: {below_500}, ce qui représente {below_500_percentage:.2f}%\")\n"
   ]
  },
  {
   "cell_type": "code",
   "execution_count": 33,
   "metadata": {},
   "outputs": [
    {
     "name": "stdout",
     "output_type": "stream",
     "text": [
      "Geography\n",
      "France     57.032017\n",
      "Spain      22.000432\n",
      "Germany    20.967551\n",
      "Name: proportion, dtype: float64\n"
     ]
    }
   ],
   "source": [
    "df['Geography'].value_counts()\n",
    "Geography_counts = df['Geography'].value_counts(normalize=True) * 100\n",
    "print(Geography_counts)"
   ]
  },
  {
   "cell_type": "code",
   "execution_count": 32,
   "metadata": {},
   "outputs": [
    {
     "name": "stdout",
     "output_type": "stream",
     "text": [
      "Gender\n",
      "Male      56.391255\n",
      "Female    43.608745\n",
      "Name: proportion, dtype: float64\n"
     ]
    }
   ],
   "source": [
    "df['Gender'].value_counts()\n",
    "Gender_counts = df['Gender'].value_counts(normalize=True) * 100\n",
    "print(Gender_counts)"
   ]
  },
  {
   "cell_type": "code",
   "execution_count": 29,
   "metadata": {},
   "outputs": [
    {
     "name": "stdout",
     "output_type": "stream",
     "text": [
      "Tenure\n",
      "2     10.980714\n",
      "7     10.777342\n",
      "8     10.636653\n",
      "4     10.626206\n",
      "5     10.436067\n",
      "1     10.170707\n",
      "9     10.138669\n",
      "3     10.087826\n",
      "6      9.552929\n",
      "10     3.565981\n",
      "0      3.026905\n",
      "Name: proportion, dtype: float64\n"
     ]
    }
   ],
   "source": [
    "df['Tenure'].value_counts()\n",
    "tenure_counts = df['Tenure'].value_counts(normalize=True) * 100\n",
    "print(tenure_counts)"
   ]
  },
  {
   "cell_type": "code",
   "execution_count": 30,
   "metadata": {},
   "outputs": [
    {
     "name": "stdout",
     "output_type": "stream",
     "text": [
      "NumOfProducts\n",
      "2    51.052731\n",
      "1    46.917725\n",
      "3     1.748167\n",
      "4     0.281378\n",
      "Name: proportion, dtype: float64\n"
     ]
    }
   ],
   "source": [
    "df['NumOfProducts'].value_counts()\n",
    "NumOfProducts_counts = df['NumOfProducts'].value_counts(normalize=True) * 100\n",
    "print(NumOfProducts_counts)"
   ]
  },
  {
   "cell_type": "code",
   "execution_count": 35,
   "metadata": {},
   "outputs": [
    {
     "name": "stdout",
     "output_type": "stream",
     "text": [
      "Carte de crédit : 75.41% ont une carte, 24.59% n'en ont pas.\n",
      "Membres actifs : 49.68% sont actifs, 50.32% ne le sont pas.\n",
      "Clients partis : 21.21% sont partis, 78.79% sont restés.\n"
     ]
    }
   ],
   "source": [
    "# Calcul des pourcentages pour les variables\n",
    "has_cr_card = df['HasCrCard'].value_counts(normalize=True) * 100\n",
    "is_active_member = df['IsActiveMember'].value_counts(normalize=True) * 100\n",
    "exited = df['Exited'].value_counts(normalize=True) * 100\n",
    "\n",
    "# Affichage des résultats\n",
    "print(f\"Carte de crédit : {has_cr_card[1.0]:.2f}% ont une carte, {has_cr_card[0.0]:.2f}% n'en ont pas.\")\n",
    "print(f\"Membres actifs : {is_active_member[1.0]:.2f}% sont actifs, {is_active_member[0.0]:.2f}% ne le sont pas.\")\n",
    "print(f\"Clients partis : {exited[1.0]:.2f}% sont partis, {exited[0.0]:.2f}% sont restés.\")\n"
   ]
  },
  {
   "cell_type": "markdown",
   "metadata": {},
   "source": [
    "#Les variables continues:\n",
    "- Age\n",
    "- Balance          \n",
    "- EstimatedSalary"
   ]
  }
 ],
 "metadata": {
  "kernelspec": {
   "display_name": "Python 3",
   "language": "python",
   "name": "python3"
  },
  "language_info": {
   "codemirror_mode": {
    "name": "ipython",
    "version": 3
   },
   "file_extension": ".py",
   "mimetype": "text/x-python",
   "name": "python",
   "nbconvert_exporter": "python",
   "pygments_lexer": "ipython3",
   "version": "3.12.6"
  }
 },
 "nbformat": 4,
 "nbformat_minor": 2
}
